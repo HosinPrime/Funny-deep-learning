{
 "cells": [
  {
   "cell_type": "code",
   "execution_count": 1,
   "metadata": {},
   "outputs": [],
   "source": [
    "import numpy as np"
   ]
  },
  {
   "cell_type": "markdown",
   "metadata": {},
   "source": [
    "### 首先将我们的数据初始"
   ]
  },
  {
   "cell_type": "raw",
   "metadata": {},
   "source": [
    "这里假设我们得到了一些人的特征X和相对应的标签y\n",
    "比如这里得到了3个样本，每个样本有3个特征,而3个样本的分数分别是6,5,3"
   ]
  },
  {
   "cell_type": "code",
   "execution_count": 2,
   "metadata": {},
   "outputs": [
    {
     "name": "stdout",
     "output_type": "stream",
     "text": [
      "(3, 3)\n",
      "(3, 1)\n"
     ]
    }
   ],
   "source": [
    "X = np.array([[1,1,1],\n",
    "              [0,1,1],\n",
    "              [0,0,1]])\n",
    "import numpy as np\n",
    "\n",
    "y = np.array([[6],\n",
    "              [5],\n",
    "              [3]])\n",
    "\n",
    "print(X.shape)\n",
    "print(y.shape)"
   ]
  },
  {
   "cell_type": "raw",
   "metadata": {},
   "source": [
    "初始化权重，这里简单的初始成为了0,因为每个人有4个特征，所以w的维度是3*1"
   ]
  },
  {
   "cell_type": "code",
   "execution_count": 3,
   "metadata": {},
   "outputs": [
    {
     "name": "stdout",
     "output_type": "stream",
     "text": [
      "[[ 0.]\n",
      " [ 0.]\n",
      " [ 0.]]\n"
     ]
    }
   ],
   "source": [
    "w = np.zeros((3, 1))\n",
    "print(w)"
   ]
  },
  {
   "cell_type": "markdown",
   "metadata": {},
   "source": [
    "然后我们计算 h = X * w 的值,在这里矩阵相乘的话用np.dot()函数"
   ]
  },
  {
   "cell_type": "code",
   "execution_count": 4,
   "metadata": {},
   "outputs": [],
   "source": [
    "h = X.dot(w)"
   ]
  },
  {
   "cell_type": "raw",
   "metadata": {},
   "source": [
    "这里得到的h是我们预测完的坐标向量,然后我们要用它和真实的坐标向量进行对比并计算损失"
   ]
  },
  {
   "cell_type": "code",
   "execution_count": 5,
   "metadata": {},
   "outputs": [],
   "source": [
    "deff = h - y"
   ]
  },
  {
   "cell_type": "raw",
   "metadata": {},
   "source": [
    "对应于公式，下一步我们应该计算出总的差距值，用一个向量的转置乘上它自身"
   ]
  },
  {
   "cell_type": "code",
   "execution_count": 6,
   "metadata": {},
   "outputs": [],
   "source": [
    "loss = deff.T.dot(deff)"
   ]
  },
  {
   "cell_type": "code",
   "execution_count": 7,
   "metadata": {},
   "outputs": [
    {
     "data": {
      "text/plain": [
       "array([[ 70.]])"
      ]
     },
     "execution_count": 7,
     "metadata": {},
     "output_type": "execute_result"
    }
   ],
   "source": [
    "loss"
   ]
  },
  {
   "cell_type": "raw",
   "metadata": {},
   "source": [
    "然后进行反向传播,首先求ddeff ="
   ]
  },
  {
   "cell_type": "code",
   "execution_count": 8,
   "metadata": {},
   "outputs": [],
   "source": [
    "ddeff = 2 * deff"
   ]
  },
  {
   "cell_type": "raw",
   "metadata": {},
   "source": [
    "然后是根据公式dh = 1 * ddeff"
   ]
  },
  {
   "cell_type": "code",
   "execution_count": 9,
   "metadata": {},
   "outputs": [],
   "source": [
    "dh = 1 * ddeff"
   ]
  },
  {
   "cell_type": "raw",
   "metadata": {},
   "source": [
    "然后计算dw"
   ]
  },
  {
   "cell_type": "code",
   "execution_count": 10,
   "metadata": {},
   "outputs": [],
   "source": [
    "dw = X.T.dot(dh)"
   ]
  },
  {
   "cell_type": "raw",
   "metadata": {},
   "source": [
    "这样就完成了一次反向传播"
   ]
  },
  {
   "cell_type": "raw",
   "metadata": {},
   "source": [
    "将这些拼接在一起，给定一定的学习率lr, 进行多次前向反向传播"
   ]
  },
  {
   "cell_type": "code",
   "execution_count": 11,
   "metadata": {},
   "outputs": [
    {
     "name": "stdout",
     "output_type": "stream",
     "text": [
      "[[ 70.]]\n",
      "[[ 0.0078892]]\n",
      "[[ 0.00078922]]\n",
      "[[ 0.00011647]]\n",
      "[[  2.53712989e-05]]\n",
      "[[  6.73698338e-06]]\n",
      "[[  1.91013569e-06]]\n",
      "[[  5.51543066e-07]]\n",
      "[[  1.60022359e-07]]\n",
      "[[  4.64861570e-08]]\n"
     ]
    }
   ],
   "source": [
    "lr = 0.01\n",
    "for i in range(1000):\n",
    "    #前向\n",
    "    h = X.dot(w)\n",
    "    deff = h-y\n",
    "    #每100次正反传播打印一次损失\n",
    "    loss = deff.T.dot(deff)\n",
    "    if i % 100 == 0:\n",
    "        print(loss)\n",
    "    #反向传播\n",
    "    ddeff = 2 * deff\n",
    "    dh = 1 * ddeff\n",
    "    dw = X.T.dot(dh)\n",
    "    w = w - lr * dw"
   ]
  },
  {
   "cell_type": "raw",
   "metadata": {},
   "source": [
    "可以看到我们的损失是一直在降低的，同时我们查看w的值可以发现它学到的权重如下，这个这个权重在我们的样本X和预测y上完美符合，这说明我们的机器已经学习到了最适合它的参数"
   ]
  },
  {
   "cell_type": "code",
   "execution_count": 12,
   "metadata": {},
   "outputs": [
    {
     "data": {
      "text/plain": [
       "array([[ 0.99987689],\n",
       "       [ 2.00015464],\n",
       "       [ 2.99993077]])"
      ]
     },
     "execution_count": 12,
     "metadata": {},
     "output_type": "execute_result"
    }
   ],
   "source": [
    "w"
   ]
  },
  {
   "cell_type": "raw",
   "metadata": {},
   "source": [
    "同样的,我们可以利用已经算出了的最后结果，一步算出dw的值,然后进行更新"
   ]
  },
  {
   "cell_type": "code",
   "execution_count": 13,
   "metadata": {},
   "outputs": [],
   "source": [
    "X = np.array([[1,1,1],\n",
    "              [0,1,1],\n",
    "              [0,0,1]])\n",
    "\n",
    "\n",
    "y = np.array([[6],\n",
    "              [5],\n",
    "              [3]])\n",
    "w = np.zeros((3, 1))"
   ]
  },
  {
   "cell_type": "code",
   "execution_count": 14,
   "metadata": {},
   "outputs": [],
   "source": [
    "lr = 0.01\n",
    "for i in range(1000):\n",
    "    dw = 2*X.T.dot(X.dot(w)-y)\n",
    "    w = w - lr * dw"
   ]
  },
  {
   "cell_type": "code",
   "execution_count": 15,
   "metadata": {},
   "outputs": [
    {
     "data": {
      "text/plain": [
       "array([[ 0.99987689],\n",
       "       [ 2.00015464],\n",
       "       [ 2.99993077]])"
      ]
     },
     "execution_count": 15,
     "metadata": {},
     "output_type": "execute_result"
    }
   ],
   "source": [
    "w"
   ]
  },
  {
   "cell_type": "raw",
   "metadata": {},
   "source": [
    "对于此问题我们也可以用公式来直接求出w的值"
   ]
  },
  {
   "cell_type": "code",
   "execution_count": 16,
   "metadata": {},
   "outputs": [],
   "source": [
    "w =  np.linalg.inv((X.T.dot(X))).dot(X.T).dot(y)"
   ]
  },
  {
   "cell_type": "code",
   "execution_count": 17,
   "metadata": {},
   "outputs": [
    {
     "data": {
      "text/plain": [
       "array([[ 1.],\n",
       "       [ 2.],\n",
       "       [ 3.]])"
      ]
     },
     "execution_count": 17,
     "metadata": {},
     "output_type": "execute_result"
    }
   ],
   "source": [
    "w"
   ]
  },
  {
   "cell_type": "markdown",
   "metadata": {},
   "source": [
    "可以看到我们上述的三个方法都得到了$w1=1,w2=2,w3=3$的结果，而这个参数正好吻合了训练集"
   ]
  },
  {
   "cell_type": "code",
   "execution_count": null,
   "metadata": {},
   "outputs": [],
   "source": []
  }
 ],
 "metadata": {
  "kernelspec": {
   "display_name": "Python 3",
   "language": "python",
   "name": "python3"
  },
  "language_info": {
   "codemirror_mode": {
    "name": "ipython",
    "version": 3
   },
   "file_extension": ".py",
   "mimetype": "text/x-python",
   "name": "python",
   "nbconvert_exporter": "python",
   "pygments_lexer": "ipython3",
   "version": "3.6.1"
  }
 },
 "nbformat": 4,
 "nbformat_minor": 2
}
